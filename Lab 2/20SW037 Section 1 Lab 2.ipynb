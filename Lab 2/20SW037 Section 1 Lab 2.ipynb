{
  "nbformat": 4,
  "nbformat_minor": 0,
  "metadata": {
    "colab": {
      "provenance": []
    },
    "kernelspec": {
      "name": "python3",
      "display_name": "Python 3"
    },
    "language_info": {
      "name": "python"
    }
  },
  "cells": [
    {
      "cell_type": "code",
      "execution_count": null,
      "metadata": {
        "id": "O0f1_V7AmHp6"
      },
      "outputs": [],
      "source": [
        "# Task 1\n",
        "points = 174\n",
        "result = \"\"\n",
        "\n",
        "\n",
        "if 1 <= points <= 50:\n",
        "    result = \"Congratulations, you won a wooden rabbit\"\n",
        "elif 51 <= points <= 150:\n",
        "    result = \"Oh dear, no prize this time.\"\n",
        "elif 151 <= points <= 180:\n",
        "    result = \"Congratulations, you won a wafer-thin mint\"\n",
        "elif 181 <= points <= 200:\n",
        "    result = \"Congratulations, you won a pengiun\"\n",
        "else:\n",
        "    result = \"Oh dear, Please try again\"\n",
        "\n",
        "\n",
        "print(result)\n",
        "\n"
      ]
    },
    {
      "cell_type": "code",
      "source": [
        "# Task 2\n",
        "answer = 42\n",
        "\n",
        "guess = int(input(\"Guess the number: \"))\n",
        "\n",
        "if guess < answer:\n",
        "    print(\"Too low! Try again.\")\n",
        "elif guess > answer:\n",
        "    print(\"Too high! Try again.\")\n",
        "else:\n",
        "    print(\"Congratulations! You guessed the correct number.\")\n"
      ],
      "metadata": {
        "id": "z7NfDg_q7LRs"
      },
      "execution_count": null,
      "outputs": []
    },
    {
      "cell_type": "code",
      "source": [
        "# Task 3\n",
        "def calculate_tax(amount, state):\n",
        "    tax_rates = {\n",
        "        \"CA\": 0.075,\n",
        "        \"MN\": 0.095,\n",
        "        \"NY\": 0.089\n",
        "    }\n",
        "\n",
        "    if state in tax_rates:\n",
        "        tax_rate = tax_rates[state]\n",
        "        tax_amount = amount * tax_rate\n",
        "        total_amount = amount + tax_amount\n",
        "        return total_amount\n",
        "    else:\n",
        "        return amount\n",
        "\n",
        "amount = float(input(\"Enter the amount of purchase: \"))\n",
        "state = input(\"Enter your state (CA, MN, or NY): \")\n",
        "\n",
        "total_amount = calculate_tax(amount, state)\n",
        "\n",
        "print(f\"Total amount with tax: ${total_amount:.2f}\")"
      ],
      "metadata": {
        "id": "_jdJ_xCf7VC_"
      },
      "execution_count": null,
      "outputs": []
    },
    {
      "cell_type": "code",
      "source": [
        "# Task 4\n",
        "sentence = [\"the\", \"quick\", \"brown\", \"fox\", \"jumped\", \"over\", \"the\", \"lazy\", \"dog\"]\n",
        "\n",
        "for word in sentence:\n",
        "    print(word)"
      ],
      "metadata": {
        "id": "c_EXQ0G97XFR"
      },
      "execution_count": null,
      "outputs": []
    },
    {
      "cell_type": "code",
      "source": [
        "# Task 5\n",
        "for number in range(5, 31, 5):\n",
        "    print(number)"
      ],
      "metadata": {
        "id": "9mXSJJtq7Y-S"
      },
      "execution_count": null,
      "outputs": []
    },
    {
      "cell_type": "code",
      "source": [
        "# Task 6\n",
        "names = [\"Rick Sanchez\", \"Morty Smith\", \"Summer Smith\", \"Jerry Smith\", \"Beth Smith\"]\n",
        "first_names = [name.split()[0].lower() for name in names]\n",
        "print(first_names)\n"
      ],
      "metadata": {
        "id": "nWRDyMUz7azW"
      },
      "execution_count": null,
      "outputs": []
    },
    {
      "cell_type": "code",
      "source": [
        "# Task 7\n",
        "multiples_3 = [i * 3 for i in range(1, 21)]\n",
        "print(multiples_3)\n"
      ],
      "metadata": {
        "id": "ttSJUdNj7dmd"
      },
      "execution_count": null,
      "outputs": []
    },
    {
      "cell_type": "code",
      "source": [
        "# Task 8\n",
        "scores = {\n",
        "    \"Rick Sanchez\": 70,\n",
        "    \"Morty Smith\": 35,\n",
        "    \"Summer Smith\": 82,\n",
        "    \"Jerry Smith\": 23,\n",
        "    \"Beth Smith\": 98\n",
        "}\n",
        "\n",
        "passed = [name for name, score in scores.items() if score >= 65]\n",
        "print(passed)\n"
      ],
      "metadata": {
        "id": "4gx-DyZF7fol"
      },
      "execution_count": null,
      "outputs": []
    },
    {
      "cell_type": "code",
      "source": [
        "# Task 9\n",
        "cast_names = [\"Barney\", \"Robin\", \"Ted\", \"Lily\", \"Marshall\"]\n",
        "cast_heights = [72, 68, 72, 66, 76]\n",
        "\n",
        "cast = dict(zip(cast_names, cast_heights))\n",
        "print(cast)"
      ],
      "metadata": {
        "id": "IyQv639P7ioK"
      },
      "execution_count": null,
      "outputs": []
    },
    {
      "cell_type": "code",
      "source": [
        "# Task 10\n",
        "cast = [\"Barney Stinson\", \"Robin Scherbatsky\", \"Ted Mosby\", \"Lily Aldrin\", \"Marshall Eriksen\"]\n",
        "heights = [72, 68, 72, 66, 76]\n",
        "\n",
        "for i, character in enumerate(cast):\n",
        "    cast[i] = f\"{character}{heights[i]}\"\n",
        "\n",
        "print(cast)\n"
      ],
      "metadata": {
        "id": "W0SVLQoT7k0E"
      },
      "execution_count": null,
      "outputs": []
    },
    {
      "cell_type": "code",
      "source": [],
      "metadata": {
        "id": "fd1bZFWr3cWB"
      },
      "execution_count": null,
      "outputs": []
    }
  ]
}