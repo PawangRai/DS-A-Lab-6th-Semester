{
  "nbformat": 4,
  "nbformat_minor": 0,
  "metadata": {
    "colab": {
      "provenance": []
    },
    "kernelspec": {
      "name": "python3",
      "display_name": "Python 3"
    },
    "language_info": {
      "name": "python"
    }
  },
  "cells": [
    {
      "cell_type": "code",
      "execution_count": 1,
      "metadata": {
        "colab": {
          "base_uri": "https://localhost:8080/"
        },
        "id": "U2QOXy6jE_Ia",
        "outputId": "1a809613-a636-47d8-94d4-77379f88b9f7"
      },
      "outputs": [
        {
          "output_type": "stream",
          "name": "stdout",
          "text": [
            "[[ 2  4  6  8]\n",
            " [10 12 14 16]\n",
            " [18 20 22 24]\n",
            " [26 28 30 32]]\n"
          ]
        }
      ],
      "source": [
        "# Task 1\n",
        "\n",
        "import numpy as np\n",
        "\n",
        "\n",
        "even_numbers = np.arange(2, 34, 2)\n",
        "\n",
        "\n",
        "X = even_numbers.reshape(4, 4)\n",
        "\n",
        "print(X)\n"
      ]
    },
    {
      "cell_type": "code",
      "source": [
        "# Task 2\n",
        "\n",
        "import numpy as np\n",
        "\n",
        "X = np.arange(1, 26).reshape(5, 5)\n",
        "\n",
        "Y = X[X % 2 != 0]\n",
        "\n",
        "print(\"Original 5x5 ndarray:\")\n",
        "print(X)\n",
        "print(\"\\nArray with only odd numbers:\")\n",
        "print(Y)\n"
      ],
      "metadata": {
        "colab": {
          "base_uri": "https://localhost:8080/"
        },
        "id": "qRbaA2PSGRLj",
        "outputId": "f5e0b1af-617c-4cc1-fea5-3b847e29f655"
      },
      "execution_count": 3,
      "outputs": [
        {
          "output_type": "stream",
          "name": "stdout",
          "text": [
            "Original 5x5 ndarray:\n",
            "[ 1  2  3  4  5  6  7  8  9 10 11 12 13 14 15 16 17 18 19 20 21 22 23 24\n",
            " 25]\n",
            "\n",
            "Array with only odd numbers:\n",
            "[ 1  3  5  7  9 11 13 15 17 19 21 23 25]\n"
          ]
        }
      ]
    },
    {
      "cell_type": "code",
      "source": [
        "import numpy as np\n",
        "\n",
        "X = np.arange(1, 5) * np.ones((4, 1))\n",
        "\n",
        "print(X)\n"
      ],
      "metadata": {
        "colab": {
          "base_uri": "https://localhost:8080/"
        },
        "id": "hUJoVJhmGtLF",
        "outputId": "ad26cb26-f003-42fb-9a44-b8e1c86222dc"
      },
      "execution_count": 6,
      "outputs": [
        {
          "output_type": "stream",
          "name": "stdout",
          "text": [
            "[[1. 2. 3. 4.]\n",
            " [1. 2. 3. 4.]\n",
            " [1. 2. 3. 4.]\n",
            " [1. 2. 3. 4.]]\n"
          ]
        }
      ]
    },
    {
      "cell_type": "code",
      "source": [
        "# Task 4\n",
        "\n",
        "from google.colab import drive\n",
        "drive.mount('/NumPy.ipynb')\n",
        "import numpy as np\n",
        "\n",
        "# Create a 1000x20 ndarray with random integers in the range [0, 5001)\n",
        "X = np.random.randint(0, 5001, size=(1000, 20))\n",
        "# Print the shape of X\n",
        "print(X.shape)\n",
        "\n",
        "# Calculate the average of the values in each column of X\n",
        "ave_cols = np.mean(X, axis=0)\n",
        "\n",
        "# Calculate the standard deviation of the values in each column of X\n",
        "std_cols = np.std(X, axis=0)\n",
        "\n",
        "\n",
        "print(\"Shape of ave_cols:\", ave_cols.shape)\n",
        "print(\"Shape of std_cols:\", std_cols.shape)\n",
        "\n",
        "# Mean normalize X\n",
        "X_norm = (X - ave_cols) / std_cols\n",
        "\n",
        "print(\"Mean normalized X:\")\n",
        "print(X_norm)\n",
        "\n",
        "# Print the average of all the values of X_norm\n",
        "ave_all_values = np.mean(X_norm)\n",
        "print(\"Average of all values in X_norm:\", ave_all_values)\n",
        "\n",
        "# Print the average of the minimum value in each column of X_norm\n",
        "ave_min_values = np.mean(np.min(X_norm, axis=0))\n",
        "print(\"Average of minimum values in each column of X_norm:\", ave_min_values)\n",
        "\n",
        "# Print the average of the maximum value in each column of X_norm\n",
        "ave_max_values = np.mean(np.max(X_norm, axis=0))\n",
        "print(\"Average of maximum values in each column of X_norm:\", ave_max_values)\n",
        "\n",
        "# We create a random permutation of integers 0 to 4\n",
        "np.random.permutation(5)\n",
        "\n",
        "# Create a random permutation of row indices of X_norm\n",
        "row_indices = np.random.permutation(X_norm.shape[0])\n",
        "\n",
        "print(\"Random permutation of row indices:\", row_indices)\n",
        "\n",
        "# Define the ratios for training, cross-validation, and test sets\n",
        "train_ratio = 0.6\n",
        "cross_val_ratio = 0.2\n",
        "test_ratio = 0.2\n",
        "\n",
        "# Calculate the sizes of each set based on the ratios\n",
        "num_rows = X_norm.shape[0]\n",
        "num_train = int(train_ratio * num_rows)\n",
        "num_cross_val = int(cross_val_ratio * num_rows)\n",
        "num_test = int(test_ratio * num_rows)\n",
        "\n",
        "# Use row_indices to split the data into sets\n",
        "X_train = X_norm[row_indices[:num_train]]\n",
        "X_crossVal = X_norm[row_indices[num_train:num_train + num_cross_val]]\n",
        "X_test = X_norm[row_indices[num_train + num_cross_val:]]\n",
        "\n",
        "print(\"X_train shape:\", X_train.shape)\n",
        "print(\"X_crossVal shape:\", X_crossVal.shape)\n",
        "print(\"X_test shape:\", X_test.shape)"
      ],
      "metadata": {
        "colab": {
          "base_uri": "https://localhost:8080/"
        },
        "id": "877FUmx_HJho",
        "outputId": "8f3eee13-6719-460f-df5e-90aa7720f573"
      },
      "execution_count": 7,
      "outputs": [
        {
          "output_type": "stream",
          "name": "stdout",
          "text": [
            "Mounted at /NumPy.ipynb\n",
            "(1000, 20)\n",
            "Shape of ave_cols: (20,)\n",
            "Shape of std_cols: (20,)\n",
            "Mean normalized X:\n",
            "[[ 1.45609327e+00  5.36947665e-01  5.45527023e-01 ...  7.97501811e-01\n",
            "  -1.16149073e-01  4.65478401e-01]\n",
            " [ 6.39931464e-02 -7.20690828e-01 -9.82516898e-01 ...  1.64591166e+00\n",
            "  -4.35401999e-01  2.74766626e-01]\n",
            " [-3.02607239e-01  5.54035802e-02 -1.33262098e+00 ... -6.48729795e-01\n",
            "  -1.25019099e+00  9.59007779e-04]\n",
            " ...\n",
            " [ 5.95318370e-01 -1.15232304e+00 -3.28338350e-01 ... -3.87786813e-01\n",
            "  -1.66452577e+00  1.86679582e-02]\n",
            " [ 1.49509871e-01  1.28513923e-01  1.58607542e+00 ...  5.47117355e-02\n",
            "  -4.46506449e-01 -1.11742933e+00]\n",
            " [-5.23408618e-01 -1.55232098e+00  1.28060612e+00 ...  1.39532356e+00\n",
            "  -1.54320618e-01  6.24177841e-01]]\n",
            "Average of all values in X_norm: -2.7000623958883807e-17\n",
            "Average of minimum values in each column of X_norm: -1.732606696897588\n",
            "Average of maximum values in each column of X_norm: 1.725742749168613\n",
            "Random permutation of row indices: [372 379 596  70 131 799 683 201 108 324 401  69 163 541 509  66 521 829\n",
            " 690 380 721 461 634 956 749 953 818 708 709 894  23 438 288 837 115 935\n",
            " 120 957 564 950 215 522  18  91 183  46 407 496  22  64 997 647 739 703\n",
            " 389 605 755 105 943 861   2 783  76 704 175 951 180 760 855  74 925   4\n",
            " 221 285 656 919 345 335 998 382 229 490 787 150 365 140 375 236 981 770\n",
            " 252 169 882 689 938 178 879  11 792 210 939 386 156 561  87 168 289 944\n",
            " 266 785 548 766 424 808 501 937 869 177 976 851 383  55 915 179 154 718\n",
            " 290 413 648 408 565 473 883 454 146 533 771 812 543 270 737 929 782 400\n",
            " 514 246 616 437 578 745 171 226 695 639 418  84 317 653 854 873 173 609\n",
            " 902 482 853 298  28 763 602 823 800 820   1 559 991 557 186 788 942 649\n",
            " 725 434 358 920 164 474 427 891 970 373 102 333 435 907 208 572  35   0\n",
            " 786 235 232 127 735 807 299  83 979 497 410 119 643 445 732 713 922 468\n",
            " 688 360 973  85 868 864 355 227 965 462 460 202 803  17 662  89   6  14\n",
            " 849  94 121 267 911 467 867 530 637 552 259 568 670 756 322 363 651 962\n",
            " 936 702 926 106 636 571 827 640 537  58 901 475 589 354 795 269 248 972\n",
            " 276 754 995 330 403 323 550 268 463 591 824 912 798 545 489 884 870 816\n",
            " 967 203 362 512  95 144 644 484 983 582 247 841 136 707 988 406 470 218\n",
            " 592 611 515 505 395 191 743 223 392 623  59 865 701 527 859  25 376 863\n",
            " 455 727 777 898  16  51 310 453 353 825 254 723 607 187 833 142 423 660\n",
            " 665 668 212 242 840 801 821 699 528 143   7 588 174 885 672 118 262 432\n",
            " 170 220 483 693 493 315 789 416  26  15 954 420 556 284 516 222 152  57\n",
            " 918 155 387 904 985 949 694 338 469 664 443 374 856 316 642 104  20 492\n",
            " 535 113 117 560 245 615  54 352 128 805 940 411 321 877 377 832 826 134\n",
            " 731 181 906 846 895  56 622 431 231 425 207 238  82 378 135 980 243 240\n",
            " 301 546 124 225 325 843 549 471 581 328 540  61 534 518  81  73 776 151\n",
            " 308 196 558 674 189 654 336 287 491 192  32 326  60 881 955 698 604  43\n",
            " 448  97  98 793 292 697 296 682 914 872 600  39 300  48 990 452  33 305\n",
            " 587 555 446 404 412 667 371 711 149 569 638 773 599 628  96 166 206 381\n",
            " 687 666 249 409  47 504 848 130  79 334 583 845 419 114 741 260 112 681\n",
            " 968 993 349 590 888 306 230 272 320 978 835 765 494 294 945 742 257 478\n",
            " 715 263 659 256 941 250 730 751  13 809  90  52 606 303 553 510 897 890\n",
            " 318 503 815 209 999 736 817 283 141  99 761   9 779 398 312 451  75 986\n",
            " 129 705 442  53 584 480 966 384 198 948 426 477 710 676  63 405 952 910\n",
            " 449  36 159 612 573 733 762 441 903 459 547 627 110 444 994 265  68 258\n",
            " 677 450 594 740 307  67  93 526 486 753 924 122 886 205 806 264 624 357\n",
            " 182 109 255 273 165 167 539  45 874 280 752 239 145 138 896  10 100  78\n",
            "  50 663 746 524 842 342 601 834 436 797 632 282 671 905 356 714 428 397\n",
            " 157 393  37 712 439 204 866 759 836 430 614 532 775 188 719 852 932 646\n",
            " 214 544 576 172 987 554 111 959 314 610 887 724 657 913  44 930 297 747\n",
            " 517 132 831 394 498 989 399 748 234 562 466 347 153 161 137 228 278  62\n",
            " 126  38 617 368 992 772 679 567 340 811 917 481 194 402 487 574 499  42\n",
            "  21 814 500 479 216 767 542 971 880 893 847 563 346 200 331 123 233 107\n",
            " 652 838  72 211 780 757 958 586 858 485 551 597 822 415 429 147 844 390\n",
            " 364 598 585   3 350 277 738 613 523 241  71 916 685 506 828 899 529 650\n",
            " 344 734 781 579 680 261 802 625 977 158 696 520 116 513 692 279 900 286\n",
            " 103 620 963 465  30 570 593 197 195 819 519 618 764 190 525 302 184 313\n",
            " 716 472 927 304 726 850 370 125 982 421 139 575 928 388 359 975 213 456\n",
            " 875 595 923 784 253 414 641 341 327 366 964 635 495 293  41 447  77 947\n",
            " 830  27 538 658  29 669 768  88 577 351  34 678 673 148 876 507 433 422\n",
            " 700 457 645 619  19 857 580 311 536   8 889 633 385 160 686 661 996 133\n",
            " 219 162 908 502 778 892 969  12 508 176 630 934 319 871 933 566 391 960\n",
            " 396 295 921 722 720 706 961 744 511 329 488 367 251 291 796 675 199 684\n",
            " 217 237 813 185 417 878  80 224 476 974 348 791 984  31 629  40 931 101\n",
            " 862 369 691 440 794 531 909 631 946 804 343 729  65 281  24 655 271 339\n",
            " 332 758 728 337 275 839 769 458 193 244 603 626 810 750  92 608  86 717\n",
            " 361 464 621  49 860 274 790   5 309 774]\n",
            "X_train shape: (600, 20)\n",
            "X_crossVal shape: (200, 20)\n",
            "X_test shape: (200, 20)\n"
          ]
        }
      ]
    },
    {
      "cell_type": "code",
      "source": [],
      "metadata": {
        "id": "sNoZgOH5FIxE"
      },
      "execution_count": 4,
      "outputs": []
    }
  ]
}