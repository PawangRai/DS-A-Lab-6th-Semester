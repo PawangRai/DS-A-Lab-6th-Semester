{
  "cells": [
    {
      "cell_type": "code",
      "execution_count": 1,
      "metadata": {
        "colab": {
          "base_uri": "https://localhost:8080/"
        },
        "id": "yii1D3BjbZl0",
        "outputId": "3af43f7c-9cd3-42db-ce01-fd03f2692395"
      },
      "outputs": [
        {
          "name": "stdout",
          "output_type": "stream",
          "text": [
            "Distance from Sun (10^6 km):\n",
            " Earth       149.6\n",
            "Saturn     1433.5\n",
            "Mars        227.9\n",
            "Venus       108.2\n",
            "Jupiter     778.6\n",
            "dtype: float64\n",
            "\n",
            "Time for sunlight to reach each planet (minutes):\n",
            " Earth       8.311111\n",
            "Saturn     79.638889\n",
            "Mars       12.661111\n",
            "Venus       6.011111\n",
            "Jupiter    43.255556\n",
            "dtype: float64\n",
            "\n",
            "Planets where sunlight takes less than 40 minutes to reach:\n",
            " Earth    149.6\n",
            "Mars     227.9\n",
            "Venus    108.2\n",
            "dtype: float64\n"
          ]
        }
      ],
      "source": [
        "# Task 1\n",
        "\n",
        "import pandas as pd\n",
        "distance_from_sun = [149.6, 1433.5, 227.9, 108.2, 778.6]\n",
        "planets = ['Earth', 'Saturn', 'Mars', 'Venus', 'Jupiter']\n",
        "dist_planets = pd.Series(distance_from_sun, index=planets)\n",
        "\n",
        "speed_of_light = 18  # Speed of light in 10^6 km/minute\n",
        "time_light = dist_planets / speed_of_light\n",
        "\n",
        "close_planets = dist_planets[time_light < 40]\n",
        "\n",
        "print(\"Distance from Sun (10^6 km):\\n\", dist_planets)\n",
        "print(\"\\nTime for sunlight to reach each planet (minutes):\\n\", time_light)\n",
        "print(\"\\nPlanets where sunlight takes less than 40 minutes to reach:\\n\", close_planets)"
      ]
    },
    {
      "cell_type": "code",
      "execution_count": 2,
      "metadata": {
        "colab": {
          "base_uri": "https://localhost:8080/"
        },
        "id": "fgRy9gNHbg0D",
        "outputId": "83bf979e-b42b-44e4-e7e0-83451b1e5902"
      },
      "outputs": [
        {
          "name": "stdout",
          "output_type": "stream",
          "text": [
            "            Book Title               Author  User 1  User 2    User 3  User 4\n",
            "0   Great Expectations      Charles Dickens    3.20   5.000  2.000000     4.0\n",
            "1      Of Mice and Men       John Steinbeck    2.85   1.300  2.300000     3.5\n",
            "2     Romeo and Juliet  William Shakespeare    2.50   4.000  2.766667     4.0\n",
            "3     The Time Machine          H. G. Wells    2.85   3.800  4.000000     5.0\n",
            "4  Alice in Wonderland        Lewis Carroll    2.85   3.525  2.766667     4.2\n"
          ]
        }
      ],
      "source": [
        "# Task 2\n",
        "\n",
        "import pandas as pd\n",
        "import numpy as np\n",
        "books = pd.Series(data=['Great Expectations', 'Of Mice and Men', 'Romeo and Juliet', 'The Time Machine', 'Alice in Wonderland'])\n",
        "authors = pd.Series(data=['Charles Dickens', 'John Steinbeck', 'William Shakespeare', 'H. G. Wells', 'Lewis Carroll'])\n",
        "user_1 = pd.Series(data=[3.2, np.nan, 2.5])\n",
        "user_2 = pd.Series(data=[5.0, 1.3, 4.0, 3.8])\n",
        "user_3 = pd.Series(data=[2.0, 2.3, np.nan, 4.0])\n",
        "user_4 = pd.Series(data=[4.0, 3.5, 4.0, 5.0, 4.2])\n",
        "\n",
        "dat = {\n",
        "    'Book Title': books,\n",
        "    'Author': authors,\n",
        "    'User 1': user_1,\n",
        "    'User 2': user_2,\n",
        "    'User 3': user_3,\n",
        "    'User 4': user_4\n",
        "}\n",
        "\n",
        "book_ratings = pd.DataFrame(dat)\n",
        "average_ratings = book_ratings.select_dtypes(include=[np.number]).mean()\n",
        "book_ratings.fillna(average_ratings, inplace=True)\n",
        "print(book_ratings)"
      ]
    },
    {
      "cell_type": "code",
      "execution_count": null,
      "metadata": {
        "id": "RfqLWyPfdGg-"
      },
      "outputs": [],
      "source": [
        "# Task 3"
      ]
    }
  ],
  "metadata": {
    "colab": {
      "provenance": []
    },
    "kernelspec": {
      "display_name": "Python 3",
      "name": "python3"
    },
    "language_info": {
      "name": "python"
    }
  },
  "nbformat": 4,
  "nbformat_minor": 0
}
