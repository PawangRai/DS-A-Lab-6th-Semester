{
  "nbformat": 4,
  "nbformat_minor": 0,
  "metadata": {
    "colab": {
      "provenance": []
    },
    "kernelspec": {
      "name": "python3",
      "display_name": "Python 3"
    },
    "language_info": {
      "name": "python"
    }
  },
  "cells": [
    {
      "cell_type": "code",
      "execution_count": 1,
      "metadata": {
        "colab": {
          "base_uri": "https://localhost:8080/"
        },
        "id": "PSlI6Qckk_7k",
        "outputId": "4d9ff3f3-6a91-4814-f730-e88a37cbb5aa"
      },
      "outputs": [
        {
          "output_type": "stream",
          "name": "stdout",
          "text": [
            "The value of variable 1 is 10 and the value of variable 2 is Hello.\n"
          ]
        }
      ],
      "source": [
        "#Task 1\n",
        "variable1 = 10\n",
        "variable2 = \"Hello\"\n",
        "\n",
        "print(\"The value of variable 1 is {} and the value of variable 2 is {}.\".format(variable1, variable2))\n",
        "\n",
        "\n"
      ]
    },
    {
      "cell_type": "code",
      "source": [
        "#Task 2\n",
        "string = \"hello\"\n",
        "print(string.upper())  # Output: \"HELLO\"\n",
        "\n",
        "string = \"WORLD\"\n",
        "print(string.lower())  # Output: \"world\"\n",
        "\n",
        "string = \"hello world\"\n",
        "print(string.capitalize())  # Output: \"Hello world\"\n",
        "\n",
        "string = \"Hello,World\"\n",
        "print(string.split(\",\"))  # Output: [\"Hello\", \"World\"]\n",
        "\n",
        "string_list = [\"Hello\", \"World\"]\n",
        "print(\",\".join(string_list))  # Output: \"Hello,World\"\n",
        "\n",
        "string = \"12345\"\n",
        "print(string.isdigit())  # Output: True\n",
        "\n",
        "string = \"Hello\"\n",
        "print(string.isalpha())  # Output: True\n",
        "\n",
        "string = \"hello\"\n",
        "print(string.islower())  # Output: True\n",
        "\n",
        "string = \"WORLD\"\n",
        "print(string.isupper())  # Output: True\n",
        "\n",
        "string = \"Hello, World!\"\n",
        "print(string.startswith((\"Hello\", \"Hi\")))  # Output: True\n",
        "\n",
        "string = \"Hello, World!\"\n",
        "print(string.endswith((\"World!\", \"Python!\")))  # Output: True\n"
      ],
      "metadata": {
        "id": "Thktb_VxNh9l"
      },
      "execution_count": null,
      "outputs": []
    },
    {
      "cell_type": "code",
      "source": [
        "# Task 3\n",
        "month = 2\n",
        "num_days = [31, 28, 31, 30, 31, 30, 31, 31, 30, 31, 30, 31][month - 1]\n",
        "print(num_days)"
      ],
      "metadata": {
        "id": "A7UicqlzNkyR"
      },
      "execution_count": null,
      "outputs": []
    },
    {
      "cell_type": "code",
      "source": [
        "# Task 4\n",
        "eclipse_dates = ['June 21, 2001', 'December 4, 2002', 'November 23, 2003',\n",
        "                 'March 29, 2006', 'August 1, 2008', 'July 22, 2009',\n",
        "                 'July 11, 2010', 'November 13, 2012', 'March 20, 2015',\n",
        "                 'March 9, 2016']\n",
        "\n",
        "recent_dates = eclipse_dates[-3:]\n",
        "print(recent_dates)\n"
      ],
      "metadata": {
        "id": "ZwAJQKFeNmoR"
      },
      "execution_count": null,
      "outputs": []
    },
    {
      "cell_type": "code",
      "source": [
        "# Task 5\n",
        "students = {\n",
        "    'student1': {\n",
        "        'name': 'Adil',\n",
        "        'age': 19,\n",
        "        'year': '1st',\n",
        "        'subjects': ['Programming', 'Physics', 'English']\n",
        "    },\n",
        "    'student2': {\n",
        "        'name': 'Sara',\n",
        "        'age': 20,\n",
        "        'year': '2nd',\n",
        "        'subjects': ['Pakistan Studies', 'OOP', 'PP']\n",
        "    },\n",
        "    'student3': {\n",
        "        'name': 'Aisha',\n",
        "        'age': 21,\n",
        "        'year': '3rd',\n",
        "        'subjects': ['SPM', 'SEM', 'MAD']\n",
        "    },\n",
        "    'student4': {\n",
        "        'name': 'Hamza',\n",
        "        'age': 22,\n",
        "        'year': '4th',\n",
        "        'subjects': ['CC', 'Calculas', 'LAAG']\n",
        "    },\n",
        "    'student5': {\n",
        "        'name': 'Hira',\n",
        "        'age': 22,\n",
        "        'year': '4th',\n",
        "        'subjects': ['Ethics', 'DSA', 'OS']\n",
        "    }\n",
        "}\n",
        "\n",
        "\n",
        "print(students['student4']['name'])\n",
        "print(students['student5']['year'])\n",
        "print(students['student3']['subjects'])\n",
        "\n",
        "\n"
      ],
      "metadata": {
        "id": "xB3p96aENxhG"
      },
      "execution_count": null,
      "outputs": []
    },
    {
      "cell_type": "code",
      "source": [],
      "metadata": {
        "id": "sL2DwcEclB2m"
      },
      "execution_count": null,
      "outputs": []
    }
  ]
}